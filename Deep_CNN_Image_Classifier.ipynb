{
  "nbformat": 4,
  "nbformat_minor": 0,
  "metadata": {
    "colab": {
      "name": "Deep-CNN-Image-Classifier.ipynb",
      "provenance": [],
      "collapsed_sections": [],
      "authorship_tag": "ABX9TyMoD8pJXPUREOgemnBpKQQD",
      "include_colab_link": true
    },
    "kernelspec": {
      "name": "python3",
      "display_name": "Python 3"
    },
    "language_info": {
      "name": "python"
    }
  },
  "cells": [
    {
      "cell_type": "markdown",
      "metadata": {
        "id": "view-in-github",
        "colab_type": "text"
      },
      "source": [
        "<a href=\"https://colab.research.google.com/github/dujest/yolov5-workshop/blob/main/Deep_CNN_Image_Classifier.ipynb\" target=\"_parent\"><img src=\"https://colab.research.google.com/assets/colab-badge.svg\" alt=\"Open In Colab\"/></a>"
      ]
    },
    {
      "cell_type": "code",
      "execution_count": 1,
      "metadata": {
        "colab": {
          "base_uri": "https://localhost:8080/"
        },
        "id": "XjbYTh3B8dIu",
        "outputId": "d93bb0ca-d4e8-4447-ee4a-9760d895cfac"
      },
      "outputs": [
        {
          "output_type": "stream",
          "name": "stdout",
          "text": [
            "Mounted at /content/drive\n"
          ]
        }
      ],
      "source": [
        "from google.colab import drive\n",
        "drive.mount('/content/drive')"
      ]
    },
    {
      "cell_type": "code",
      "source": [
        "import torch\n",
        "import torchvision\n",
        "import torchvision.transforms as transforms\n",
        "import torch.nn as nn\n",
        "import torch.nn.functional as F\n",
        "\n",
        "import matplotlib.pyplot as plt\n",
        "import numpy as np"
      ],
      "metadata": {
        "id": "Y9qEa2MFijFL"
      },
      "execution_count": 2,
      "outputs": []
    },
    {
      "cell_type": "code",
      "source": [
        "# !mkdir /content/drive/MyDrive/colab"
      ],
      "metadata": {
        "id": "3HX0tKA3hxBe"
      },
      "execution_count": null,
      "outputs": []
    },
    {
      "cell_type": "code",
      "source": [
        "%cd /content/drive/MyDrive/colab"
      ],
      "metadata": {
        "colab": {
          "base_uri": "https://localhost:8080/"
        },
        "id": "BKxL40IHh2WW",
        "outputId": "8e166e31-3ee4-4bdb-e945-e92aebc6bc46"
      },
      "execution_count": 3,
      "outputs": [
        {
          "output_type": "stream",
          "name": "stdout",
          "text": [
            "/content/drive/MyDrive/colab\n"
          ]
        }
      ]
    },
    {
      "cell_type": "code",
      "source": [
        "!mkdir \"/content/drive/MyDrive/colab/ship_dataset\"\n",
        "!wget  \"https://universe.roboflow.com/ds/Lj4L1fPBYB?key=QpCnaxfpAU\" -O \"/content/drive/MyDrive/colab/ship_dataset/ship.zip\"\n",
        "!unzip \"/content/drive/MyDrive/colab/ship_dataset/ship.zip\" -d \"/content/drive/MyDrive/colab/ship_dataset\"\n",
        "!rm -r \"/content/drive/MyDrive/colab/ship_dataset/ship.zip\""
      ],
      "metadata": {
        "id": "DQ9qgT7Cil3Z"
      },
      "execution_count": null,
      "outputs": []
    }
  ]
}