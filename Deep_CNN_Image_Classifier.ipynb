{
  "nbformat": 4,
  "nbformat_minor": 0,
  "metadata": {
    "colab": {
      "name": "Deep-CNN-Image-Classifier.ipynb",
      "provenance": [],
      "collapsed_sections": [],
      "authorship_tag": "ABX9TyMGNBRDhf7NtOEIL5E5cR5R",
      "include_colab_link": true
    },
    "kernelspec": {
      "name": "python3",
      "display_name": "Python 3"
    },
    "language_info": {
      "name": "python"
    },
    "accelerator": "GPU",
    "gpuClass": "standard"
  },
  "cells": [
    {
      "cell_type": "markdown",
      "metadata": {
        "id": "view-in-github",
        "colab_type": "text"
      },
      "source": [
        "<a href=\"https://colab.research.google.com/github/dujest/yolov5-workshop/blob/main/Deep_CNN_Image_Classifier.ipynb\" target=\"_parent\"><img src=\"https://colab.research.google.com/assets/colab-badge.svg\" alt=\"Open In Colab\"/></a>"
      ]
    },
    {
      "cell_type": "code",
      "execution_count": 3,
      "metadata": {
        "colab": {
          "base_uri": "https://localhost:8080/"
        },
        "id": "XjbYTh3B8dIu",
        "outputId": "57425d11-6c69-450c-c83a-974e48a8871f"
      },
      "outputs": [
        {
          "output_type": "stream",
          "name": "stdout",
          "text": [
            "Mounted at /content/drive\n"
          ]
        }
      ],
      "source": [
        "from google.colab import drive\n",
        "drive.mount('/content/drive')"
      ]
    },
    {
      "cell_type": "code",
      "source": [
        "import torch\n",
        "import torchvision\n",
        "import torchvision.transforms as transforms\n",
        "import torch.nn as nn\n",
        "import torch.nn.functional as F\n",
        "\n",
        "import matplotlib.pyplot as plt\n",
        "import numpy as np"
      ],
      "metadata": {
        "id": "Y9qEa2MFijFL"
      },
      "execution_count": 2,
      "outputs": []
    },
    {
      "cell_type": "code",
      "source": [
        "!mkdir /content/drive/MyDrive/colab"
      ],
      "metadata": {
        "id": "3HX0tKA3hxBe"
      },
      "execution_count": null,
      "outputs": []
    },
    {
      "cell_type": "code",
      "source": [
        "%cd /content/drive/MyDrive/colab"
      ],
      "metadata": {
        "colab": {
          "base_uri": "https://localhost:8080/"
        },
        "id": "BKxL40IHh2WW",
        "outputId": "24f2a4ad-ba35-4ea2-d172-c37e8aba6c8d"
      },
      "execution_count": 4,
      "outputs": [
        {
          "output_type": "stream",
          "name": "stdout",
          "text": [
            "/content/drive/MyDrive/colab\n"
          ]
        }
      ]
    },
    {
      "cell_type": "code",
      "source": [
        "!mkdir \"/content/drive/MyDrive/colab/corrosion_dataset\"\n",
        "!wget  \"https://universe.roboflow.com/ds/2McX7x8m20?key=xETVR2Gpai\" -O \"/content/drive/MyDrive/colab/corrosion_dataset/corrosion.zip\"\n",
        "!unzip \"/content/drive/MyDrive/colab/corrosion_dataset/corrosion.zip\" -d \"/content/drive/MyDrive/colab/corrosion_dataset\"\n",
        "!rm -r \"/content/drive/MyDrive/colab/corrosion_dataset/corrosion.zip\""
      ],
      "metadata": {
        "id": "DQ9qgT7Cil3Z"
      },
      "execution_count": null,
      "outputs": []
    },
    {
      "cell_type": "code",
      "source": [
        "transform = transforms.Compose([transforms.ToTensor(), transforms.Resize(320), transforms.Normalize((0.5, 0.5, 0.5), (0.5, 0.5, 0.5))])\n",
        "\n",
        "transform1 = transforms.Compose([transforms.ToTensor(),\n",
        "                                 transforms.Resize(320),\n",
        "                                 transforms.RandomHorizontalFlip(p=0.9),\n",
        "                                 transforms.Normalize((0.5, 0.5, 0.5), (0.5, 0.5, 0.5)),\n",
        "                                ])\n",
        "\n",
        "batch_size = 4\n",
        "\n",
        "trainset = torchvision.datasets.ImageFolder('/content/drive/MyDrive/colab/corrosion_dataset/train', transform=transform)\n",
        "\n",
        "trainloader = torch.utils.data.DataLoader(trainset, batch_size=batch_size, shuffle=True, num_workers=2)\n",
        "\n",
        "testset = torchvision.datasets.ImageFolder('/content/drive/MyDrive/colab/corrosion_dataset/valid', transform=transform)\n",
        "\n",
        "testloader = torch.utils.data.DataLoader(testset, batch_size=batch_size, shuffle=True, num_workers=2)\n",
        "\n",
        "classes = (\"Corrosion\", \"No corrosion\")"
      ],
      "metadata": {
        "id": "Bon-8LlYncxK"
      },
      "execution_count": 36,
      "outputs": []
    }
  ]
}