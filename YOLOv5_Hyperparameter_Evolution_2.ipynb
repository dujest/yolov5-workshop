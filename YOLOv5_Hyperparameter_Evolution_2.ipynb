{
  "nbformat": 4,
  "nbformat_minor": 0,
  "metadata": {
    "colab": {
      "name": "YOLOv5-Hyperparameter-Evolution-2.ipynb",
      "provenance": [],
      "collapsed_sections": [],
      "authorship_tag": "ABX9TyMg2heSrHqNPj05KhobOuju",
      "include_colab_link": true
    },
    "kernelspec": {
      "name": "python3",
      "display_name": "Python 3"
    },
    "language_info": {
      "name": "python"
    },
    "accelerator": "GPU",
    "gpuClass": "standard"
  },
  "cells": [
    {
      "cell_type": "markdown",
      "metadata": {
        "id": "view-in-github",
        "colab_type": "text"
      },
      "source": [
        "<a href=\"https://colab.research.google.com/github/dujest/yolov5-workshop/blob/main/YOLOv5_Hyperparameter_Evolution_2.ipynb\" target=\"_parent\"><img src=\"https://colab.research.google.com/assets/colab-badge.svg\" alt=\"Open In Colab\"/></a>"
      ]
    },
    {
      "cell_type": "code",
      "execution_count": null,
      "metadata": {
        "colab": {
          "base_uri": "https://localhost:8080/"
        },
        "id": "XzxQASmvBMcF",
        "outputId": "d31cb76f-ceae-44f5-b0d7-6f0ea8c196cf"
      },
      "outputs": [
        {
          "output_type": "stream",
          "name": "stdout",
          "text": [
            "Mounted at /content/drive\n"
          ]
        }
      ],
      "source": [
        "from google.colab import drive\n",
        "drive.mount('/content/drive')"
      ]
    },
    {
      "cell_type": "code",
      "source": [
        "%cd ./drive/MyDrive/"
      ],
      "metadata": {
        "id": "DeQTo8SLCTLj"
      },
      "execution_count": null,
      "outputs": []
    },
    {
      "cell_type": "code",
      "source": [
        "!mkdir ./colab"
      ],
      "metadata": {
        "id": "kh6e4FE1CUv0"
      },
      "execution_count": null,
      "outputs": []
    },
    {
      "cell_type": "code",
      "source": [
        "%cd /content/drive/MyDrive/colab"
      ],
      "metadata": {
        "colab": {
          "base_uri": "https://localhost:8080/"
        },
        "id": "jDTqd5ntBzrx",
        "outputId": "b1f57d17-7c2b-4f17-ec2a-c5b4cff902f2"
      },
      "execution_count": null,
      "outputs": [
        {
          "output_type": "stream",
          "name": "stdout",
          "text": [
            "/content/drive/MyDrive/colab\n"
          ]
        }
      ]
    },
    {
      "cell_type": "markdown",
      "source": [
        "# Install Requirements"
      ],
      "metadata": {
        "id": "LbQYtyFICc31"
      }
    },
    {
      "cell_type": "code",
      "source": [
        "# !git clone https://github.com/ultralytics/yolov5  # clone repo\n",
        "%cd yolov5\n",
        "%pip install -qr requirements.txt # install dependencies\n",
        "%pip install -q roboflow\n",
        "\n",
        "import torch\n",
        "import os\n",
        "from IPython.display import Image, clear_output  # to display images\n",
        "\n",
        "print(f\"Setup complete. Using torch {torch.__version__} ({torch.cuda.get_device_properties(0).name if torch.cuda.is_available() else 'CPU'})\")"
      ],
      "metadata": {
        "colab": {
          "base_uri": "https://localhost:8080/"
        },
        "id": "j0JpWuu2CNsx",
        "outputId": "492b2a18-e54a-47ca-96cb-7f1d07802547"
      },
      "execution_count": null,
      "outputs": [
        {
          "output_type": "stream",
          "name": "stdout",
          "text": [
            "/content/drive/MyDrive/colab/yolov5\n",
            "\u001b[K     |████████████████████████████████| 1.6 MB 7.7 MB/s \n",
            "\u001b[K     |████████████████████████████████| 145 kB 9.7 MB/s \n",
            "\u001b[K     |████████████████████████████████| 178 kB 64.7 MB/s \n",
            "\u001b[K     |████████████████████████████████| 1.1 MB 66.1 MB/s \n",
            "\u001b[K     |████████████████████████████████| 67 kB 7.2 MB/s \n",
            "\u001b[K     |████████████████████████████████| 54 kB 3.3 MB/s \n",
            "\u001b[K     |████████████████████████████████| 138 kB 62.1 MB/s \n",
            "\u001b[K     |████████████████████████████████| 62 kB 1.7 MB/s \n",
            "\u001b[?25h  Building wheel for roboflow (setup.py) ... \u001b[?25l\u001b[?25hdone\n",
            "  Building wheel for wget (setup.py) ... \u001b[?25l\u001b[?25hdone\n",
            "Setup complete. Using torch 1.12.1+cu113 (Tesla T4)\n"
          ]
        }
      ]
    },
    {
      "cell_type": "markdown",
      "source": [
        "# Get a Dataset"
      ],
      "metadata": {
        "id": "I3CZOgf0vMHh"
      }
    },
    {
      "cell_type": "code",
      "source": [
        "!mkdir ../datasets"
      ],
      "metadata": {
        "id": "74vyWN2ow3J2"
      },
      "execution_count": null,
      "outputs": []
    },
    {
      "cell_type": "code",
      "source": [
        "# set up environment\n",
        "os.environ[\"DATASET_DIRECTORY\"] = \"/content/drive/MyDrive/colab/datasets\""
      ],
      "metadata": {
        "id": "j7DdSEfdwi6t"
      },
      "execution_count": null,
      "outputs": []
    },
    {
      "cell_type": "code",
      "source": [
        "from roboflow import Roboflow\n",
        "rf = Roboflow(api_key=\"hqecDDiHcpNES0AxG9i3\")\n",
        "project = rf.workspace(\"photolab\").project(\"set_2995\")\n",
        "dataset = project.version(1).download(\"yolov5\")"
      ],
      "metadata": {
        "colab": {
          "base_uri": "https://localhost:8080/"
        },
        "id": "zgivqUXHwLTT",
        "outputId": "da9d8745-1809-4cba-8804-5325e892fd51"
      },
      "execution_count": null,
      "outputs": [
        {
          "output_type": "stream",
          "name": "stdout",
          "text": [
            "loading Roboflow workspace...\n",
            "loading Roboflow project...\n",
            "Downloading Dataset Version Zip in /content/drive/MyDrive/colab/datasets/SET_2995-1 to yolov5pytorch: 100% [58211561 / 58211561] bytes\n"
          ]
        },
        {
          "output_type": "stream",
          "name": "stderr",
          "text": [
            "Extracting Dataset Version Zip to /content/drive/MyDrive/colab/datasets/SET_2995-1 in yolov5pytorch:: 100%|██████████| 6002/6002 [00:32<00:00, 181.96it/s]\n"
          ]
        }
      ]
    },
    {
      "cell_type": "markdown",
      "source": [
        "# Hyperparameter Evolution"
      ],
      "metadata": {
        "id": "z_Erg9pP1wJ6"
      }
    },
    {
      "cell_type": "markdown",
      "source": [
        "Hyperparameters in ML control various aspects of training, and finding optimal values for them can be a challenge. Traditional methods like grid searches can quickly become intractable due to\n",
        "<br>\n",
        "1) the high dimensional search space,\n",
        "<br>\n",
        "2) unknown correlations among the dimensions,\n",
        "<br>\n",
        "3) expensive nature of evaluating the fitness at each point.\n",
        "<br>\n",
        "These reasons makes GA a suitable candidate for hyperparameter searches."
      ],
      "metadata": {
        "id": "aYd_Syh31237"
      }
    },
    {
      "cell_type": "code",
      "source": [
        "!python train.py --epochs 10 --data '/content/drive/MyDrive/colab/datasets/SET_2995-1/data.yaml' --weights yolov5m.pt --cache --evolve"
      ],
      "metadata": {
        "id": "GIQz51En1xxP"
      },
      "execution_count": null,
      "outputs": []
    },
    {
      "cell_type": "markdown",
      "source": [
        "# Train the data"
      ],
      "metadata": {
        "id": "63AJn7ny6Cvj"
      }
    },
    {
      "cell_type": "code",
      "source": [
        "!python train.py --img 416 --batch 64 --epochs 100 --data '/content/drive/MyDrive/colab/datasets/SET_2995-1/data.yaml' --weights yolov5m.pt --cache --hyp \"/content/drive/MyDrive/colab/yolov5/runs/evolve/exp2/hyp_evolve.yaml\""
      ],
      "metadata": {
        "id": "5a71ySkJ48qu"
      },
      "execution_count": null,
      "outputs": []
    },
    {
      "cell_type": "markdown",
      "source": [
        "# Evaluate the model performance"
      ],
      "metadata": {
        "id": "u0XDGI4xK7ic"
      }
    },
    {
      "cell_type": "code",
      "source": [
        "# Start tensorboard\n",
        "%load_ext tensorboard\n",
        "%tensorboard --logdir /content/drive/MyDrive/colab/yolov5/runs/train/exp2"
      ],
      "metadata": {
        "id": "OaDjT3qrK75e"
      },
      "execution_count": null,
      "outputs": []
    },
    {
      "cell_type": "code",
      "source": [
        "import numpy as np\n",
        "import pandas as pd\n",
        "from scipy.interpolate import make_interp_spline\n",
        "import matplotlib as mpl\n",
        "import matplotlib.pyplot as plt\n",
        "%matplotlib inline"
      ],
      "metadata": {
        "id": "a9bOFWaiLDdG"
      },
      "execution_count": null,
      "outputs": []
    },
    {
      "cell_type": "code",
      "source": [
        "metrics_list = ['metrics/mAP_0.5', 'metrics/mAP_0.5:0.95', 'metrics/precision', 'metrics/recall']\n",
        "\n",
        "plt.rcParams[\"figure.figsize\"] = (10,10)\n",
        "\n",
        "def metrics_plotting(path_list, num):\n",
        "    for n, metric in enumerate (metrics_list):\n",
        "        n += 1\n",
        "        plt.subplot(2, 2, n)\n",
        "        for path in path_list:\n",
        "            data = pd.read_csv(path_list[path], sep=',', header=0, skipinitialspace=True)\n",
        "            data.rename(columns={metric : path}, inplace=True)\n",
        "            spline = make_interp_spline(data['epoch'], data[path])\n",
        "            epochs = np.linspace(0, len(data), num)\n",
        "            spline_values = spline(epochs)\n",
        "            spline_values[-1]=data[path].to_numpy()[-1]\n",
        "            plt.plot('epoch', path, data=data, linestyle=':', linewidth=1, alpha=0.8)\n",
        "            plt.plot(epochs, spline_values, linewidth=2, label=path)\n",
        "        plt.title(metric)\n",
        "        plt.xlabel('epoch')\n",
        "        plt.legend()\n",
        "    plt.show()"
      ],
      "metadata": {
        "id": "dKunag5fLEQT"
      },
      "execution_count": null,
      "outputs": []
    },
    {
      "cell_type": "code",
      "source": [
        "def metrics_table(path_list):\n",
        "    for n, path in enumerate(path_list):\n",
        "        train_data = pd.read_csv(path_list[path], sep=',', header=0, skipinitialspace=True)\n",
        "        train_data.rename(index={len(train_data)-1 : path}, inplace=True)\n",
        "        train_metrics = train_data.iloc[:, [4, 5, 6, 7]]\n",
        "        comparison_data = train_metrics.tail(1)\n",
        "        if n == 0:\n",
        "            comparsion_table = pd.concat([comparison_data])\n",
        "        else:\n",
        "            comparsion_table = pd.concat([comparsion_table, comparison_data])   \n",
        "\n",
        "    return comparsion_table"
      ],
      "metadata": {
        "id": "8L_xXTjnLFz1"
      },
      "execution_count": null,
      "outputs": []
    },
    {
      "cell_type": "code",
      "source": [
        "path_list = {'The best weights': '/content/drive/MyDrive/colab/yolov5/runs/train/exp2/results.csv',\n",
        "            }"
      ],
      "metadata": {
        "id": "W3gaC7LbLHJy"
      },
      "execution_count": null,
      "outputs": []
    },
    {
      "cell_type": "code",
      "source": [
        "metrics_plotting(path_list=path_list, num=15)\n",
        "metrics_table(path_list=path_list)"
      ],
      "metadata": {
        "colab": {
          "base_uri": "https://localhost:8080/",
          "height": 685
        },
        "id": "Kreg2ROkLlyH",
        "outputId": "012b71a1-13e3-4fff-dd60-7ea05293202c"
      },
      "execution_count": null,
      "outputs": [
        {
          "output_type": "display_data",
          "data": {
            "text/plain": [
              "<Figure size 720x720 with 4 Axes>"
            ],
            "image/png": "[encoded data removed]"
          },
          "metadata": {
            "needs_background": "light"
          }
        },
        {
          "output_type": "execute_result",
          "data": {
            "text/plain": [
              "                  metrics/precision  metrics/recall  metrics/mAP_0.5  \\\n",
              "The best weights            0.85604         0.80179          0.82193   \n",
              "\n",
              "                  metrics/mAP_0.5:0.95  \n",
              "The best weights                0.5739  "
            ],
            "text/html": [
              "\n",
              "  <div id=\"df-7a342a44-7f71-44fe-9cfa-b69c370172e9\">\n",
              "    <div class=\"colab-df-container\">\n",
              "      <div>\n",
              "<style scoped>\n",
              "    .dataframe tbody tr th:only-of-type {\n",
              "        vertical-align: middle;\n",
              "    }\n",
              "\n",
              "    .dataframe tbody tr th {\n",
              "        vertical-align: top;\n",
              "    }\n",
              "\n",
              "    .dataframe thead th {\n",
              "        text-align: right;\n",
              "    }\n",
              "</style>\n",
              "<table border=\"1\" class=\"dataframe\">\n",
              "  <thead>\n",
              "    <tr style=\"text-align: right;\">\n",
              "      <th></th>\n",
              "      <th>metrics/precision</th>\n",
              "      <th>metrics/recall</th>\n",
              "      <th>metrics/mAP_0.5</th>\n",
              "      <th>metrics/mAP_0.5:0.95</th>\n",
              "    </tr>\n",
              "  </thead>\n",
              "  <tbody>\n",
              "    <tr>\n",
              "      <th>The best weights</th>\n",
              "      <td>0.85604</td>\n",
              "      <td>0.80179</td>\n",
              "      <td>0.82193</td>\n",
              "      <td>0.5739</td>\n",
              "    </tr>\n",
              "  </tbody>\n",
              "</table>\n",
              "</div>\n",
              "      <button class=\"colab-df-convert\" onclick=\"convertToInteractive('df-7a342a44-7f71-44fe-9cfa-b69c370172e9')\"\n",
              "              title=\"Convert this dataframe to an interactive table.\"\n",
              "              style=\"display:none;\">\n",
              "        \n",
              "  <svg xmlns=\"http://www.w3.org/2000/svg\" height=\"24px\"viewBox=\"0 0 24 24\"\n",
              "       width=\"24px\">\n",
              "    <path d=\"M0 0h24v24H0V0z\" fill=\"none\"/>\n",
              "    <path d=\"M18.56 5.44l.94 2.06.94-2.06 2.06-.94-2.06-.94-.94-2.06-.94 2.06-2.06.94zm-11 1L8.5 8.5l.94-2.06 2.06-.94-2.06-.94L8.5 2.5l-.94 2.06-2.06.94zm10 10l.94 2.06.94-2.06 2.06-.94-2.06-.94-.94-2.06-.94 2.06-2.06.94z\"/><path d=\"M17.41 7.96l-1.37-1.37c-.4-.4-.92-.59-1.43-.59-.52 0-1.04.2-1.43.59L10.3 9.45l-7.72 7.72c-.78.78-.78 2.05 0 2.83L4 21.41c.39.39.9.59 1.41.59.51 0 1.02-.2 1.41-.59l7.78-7.78 2.81-2.81c.8-.78.8-2.07 0-2.86zM5.41 20L4 18.59l7.72-7.72 1.47 1.35L5.41 20z\"/>\n",
              "  </svg>\n",
              "      </button>\n",
              "      \n",
              "  <style>\n",
              "    .colab-df-container {\n",
              "      display:flex;\n",
              "      flex-wrap:wrap;\n",
              "      gap: 12px;\n",
              "    }\n",
              "\n",
              "    .colab-df-convert {\n",
              "      background-color: #E8F0FE;\n",
              "      border: none;\n",
              "      border-radius: 50%;\n",
              "      cursor: pointer;\n",
              "      display: none;\n",
              "      fill: #1967D2;\n",
              "      height: 32px;\n",
              "      padding: 0 0 0 0;\n",
              "      width: 32px;\n",
              "    }\n",
              "\n",
              "    .colab-df-convert:hover {\n",
              "      background-color: #E2EBFA;\n",
              "      box-shadow: 0px 1px 2px rgba(60, 64, 67, 0.3), 0px 1px 3px 1px rgba(60, 64, 67, 0.15);\n",
              "      fill: #174EA6;\n",
              "    }\n",
              "\n",
              "    [theme=dark] .colab-df-convert {\n",
              "      background-color: #3B4455;\n",
              "      fill: #D2E3FC;\n",
              "    }\n",
              "\n",
              "    [theme=dark] .colab-df-convert:hover {\n",
              "      background-color: #434B5C;\n",
              "      box-shadow: 0px 1px 3px 1px rgba(0, 0, 0, 0.15);\n",
              "      filter: drop-shadow(0px 1px 2px rgba(0, 0, 0, 0.3));\n",
              "      fill: #FFFFFF;\n",
              "    }\n",
              "  </style>\n",
              "\n",
              "      <script>\n",
              "        const buttonEl =\n",
              "          document.querySelector('#df-7a342a44-7f71-44fe-9cfa-b69c370172e9 button.colab-df-convert');\n",
              "        buttonEl.style.display =\n",
              "          google.colab.kernel.accessAllowed ? 'block' : 'none';\n",
              "\n",
              "        async function convertToInteractive(key) {\n",
              "          const element = document.querySelector('#df-7a342a44-7f71-44fe-9cfa-b69c370172e9');\n",
              "          const dataTable =\n",
              "            await google.colab.kernel.invokeFunction('convertToInteractive',\n",
              "                                                     [key], {});\n",
              "          if (!dataTable) return;\n",
              "\n",
              "          const docLinkHtml = 'Like what you see? Visit the ' +\n",
              "            '<a target=\"_blank\" href=https://colab.research.google.com/notebooks/data_table.ipynb>data table notebook</a>'\n",
              "            + ' to learn more about interactive tables.';\n",
              "          element.innerHTML = '';\n",
              "          dataTable['output_type'] = 'display_data';\n",
              "          await google.colab.output.renderOutput(dataTable, element);\n",
              "          const docLink = document.createElement('div');\n",
              "          docLink.innerHTML = docLinkHtml;\n",
              "          element.appendChild(docLink);\n",
              "        }\n",
              "      </script>\n",
              "    </div>\n",
              "  </div>\n",
              "  "
            ]
          },
          "metadata": {},
          "execution_count": 8
        }
      ]
    }
  ]
}