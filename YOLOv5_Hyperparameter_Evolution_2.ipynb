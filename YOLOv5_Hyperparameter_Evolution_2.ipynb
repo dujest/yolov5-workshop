{
  "nbformat": 4,
  "nbformat_minor": 0,
  "metadata": {
    "colab": {
      "name": "YOLOv5-Hyperparameter-Evolution-2.ipynb",
      "provenance": [],
      "collapsed_sections": [],
      "authorship_tag": "ABX9TyM5Hwwk9vQgIrp9aRIsIS63",
      "include_colab_link": true
    },
    "kernelspec": {
      "name": "python3",
      "display_name": "Python 3"
    },
    "language_info": {
      "name": "python"
    },
    "accelerator": "GPU",
    "gpuClass": "standard"
  },
  "cells": [
    {
      "cell_type": "markdown",
      "metadata": {
        "id": "view-in-github",
        "colab_type": "text"
      },
      "source": [
        "<a href=\"https://colab.research.google.com/github/dujest/yolov5-workshop/blob/main/YOLOv5_Hyperparameter_Evolution_2.ipynb\" target=\"_parent\"><img src=\"https://colab.research.google.com/assets/colab-badge.svg\" alt=\"Open In Colab\"/></a>"
      ]
    },
    {
      "cell_type": "code",
      "execution_count": 1,
      "metadata": {
        "colab": {
          "base_uri": "https://localhost:8080/"
        },
        "id": "XzxQASmvBMcF",
        "outputId": "3555aaa3-4fef-4685-bbee-87edc1177a20"
      },
      "outputs": [
        {
          "output_type": "stream",
          "name": "stdout",
          "text": [
            "Mounted at /content/drive\n"
          ]
        }
      ],
      "source": [
        "from google.colab import drive\n",
        "drive.mount('/content/drive')"
      ]
    },
    {
      "cell_type": "code",
      "source": [
        "%cd ./drive/MyDrive/"
      ],
      "metadata": {
        "id": "DeQTo8SLCTLj"
      },
      "execution_count": null,
      "outputs": []
    },
    {
      "cell_type": "code",
      "source": [
        "!mkdir ./colab"
      ],
      "metadata": {
        "id": "kh6e4FE1CUv0"
      },
      "execution_count": null,
      "outputs": []
    },
    {
      "cell_type": "code",
      "source": [
        "%cd /content/drive/MyDrive/colab"
      ],
      "metadata": {
        "colab": {
          "base_uri": "https://localhost:8080/"
        },
        "id": "jDTqd5ntBzrx",
        "outputId": "6ed53f76-6789-4975-cfdf-f5565fcd0030"
      },
      "execution_count": 2,
      "outputs": [
        {
          "output_type": "stream",
          "name": "stdout",
          "text": [
            "/content/drive/MyDrive/colab\n"
          ]
        }
      ]
    },
    {
      "cell_type": "markdown",
      "source": [
        "# Install Requirements"
      ],
      "metadata": {
        "id": "LbQYtyFICc31"
      }
    },
    {
      "cell_type": "code",
      "source": [
        "# !git clone https://github.com/ultralytics/yolov5  # clone repo\n",
        "%cd yolov5\n",
        "%pip install -qr requirements.txt # install dependencies\n",
        "%pip install -q roboflow\n",
        "\n",
        "import torch\n",
        "import os\n",
        "from IPython.display import Image, clear_output  # to display images\n",
        "\n",
        "print(f\"Setup complete. Using torch {torch.__version__} ({torch.cuda.get_device_properties(0).name if torch.cuda.is_available() else 'CPU'})\")"
      ],
      "metadata": {
        "colab": {
          "base_uri": "https://localhost:8080/"
        },
        "id": "j0JpWuu2CNsx",
        "outputId": "492b2a18-e54a-47ca-96cb-7f1d07802547"
      },
      "execution_count": 3,
      "outputs": [
        {
          "output_type": "stream",
          "name": "stdout",
          "text": [
            "/content/drive/MyDrive/colab/yolov5\n",
            "\u001b[K     |████████████████████████████████| 1.6 MB 7.7 MB/s \n",
            "\u001b[K     |████████████████████████████████| 145 kB 9.7 MB/s \n",
            "\u001b[K     |████████████████████████████████| 178 kB 64.7 MB/s \n",
            "\u001b[K     |████████████████████████████████| 1.1 MB 66.1 MB/s \n",
            "\u001b[K     |████████████████████████████████| 67 kB 7.2 MB/s \n",
            "\u001b[K     |████████████████████████████████| 54 kB 3.3 MB/s \n",
            "\u001b[K     |████████████████████████████████| 138 kB 62.1 MB/s \n",
            "\u001b[K     |████████████████████████████████| 62 kB 1.7 MB/s \n",
            "\u001b[?25h  Building wheel for roboflow (setup.py) ... \u001b[?25l\u001b[?25hdone\n",
            "  Building wheel for wget (setup.py) ... \u001b[?25l\u001b[?25hdone\n",
            "Setup complete. Using torch 1.12.1+cu113 (Tesla T4)\n"
          ]
        }
      ]
    },
    {
      "cell_type": "markdown",
      "source": [
        "# Get a Dataset"
      ],
      "metadata": {
        "id": "I3CZOgf0vMHh"
      }
    },
    {
      "cell_type": "code",
      "source": [
        "!mkdir ../datasets"
      ],
      "metadata": {
        "id": "74vyWN2ow3J2"
      },
      "execution_count": null,
      "outputs": []
    },
    {
      "cell_type": "code",
      "source": [
        "# set up environment\n",
        "os.environ[\"DATASET_DIRECTORY\"] = \"/content/drive/MyDrive/colab/datasets\""
      ],
      "metadata": {
        "id": "j7DdSEfdwi6t"
      },
      "execution_count": 4,
      "outputs": []
    },
    {
      "cell_type": "code",
      "source": [
        "from roboflow import Roboflow\n",
        "rf = Roboflow(api_key=\"hqecDDiHcpNES0AxG9i3\")\n",
        "project = rf.workspace(\"photolab\").project(\"set_2995\")\n",
        "dataset = project.version(1).download(\"yolov5\")"
      ],
      "metadata": {
        "colab": {
          "base_uri": "https://localhost:8080/"
        },
        "id": "zgivqUXHwLTT",
        "outputId": "da9d8745-1809-4cba-8804-5325e892fd51"
      },
      "execution_count": 5,
      "outputs": [
        {
          "output_type": "stream",
          "name": "stdout",
          "text": [
            "loading Roboflow workspace...\n",
            "loading Roboflow project...\n",
            "Downloading Dataset Version Zip in /content/drive/MyDrive/colab/datasets/SET_2995-1 to yolov5pytorch: 100% [58211561 / 58211561] bytes\n"
          ]
        },
        {
          "output_type": "stream",
          "name": "stderr",
          "text": [
            "Extracting Dataset Version Zip to /content/drive/MyDrive/colab/datasets/SET_2995-1 in yolov5pytorch:: 100%|██████████| 6002/6002 [00:32<00:00, 181.96it/s]\n"
          ]
        }
      ]
    },
    {
      "cell_type": "markdown",
      "source": [
        "# Hyperparameter Evolution"
      ],
      "metadata": {
        "id": "z_Erg9pP1wJ6"
      }
    },
    {
      "cell_type": "markdown",
      "source": [
        "Hyperparameters in ML control various aspects of training, and finding optimal values for them can be a challenge. Traditional methods like grid searches can quickly become intractable due to\n",
        "<br>\n",
        "1) the high dimensional search space,\n",
        "<br>\n",
        "2) unknown correlations among the dimensions,\n",
        "<br>\n",
        "3) expensive nature of evaluating the fitness at each point.\n",
        "<br>\n",
        "These reasons makes GA a suitable candidate for hyperparameter searches."
      ],
      "metadata": {
        "id": "aYd_Syh31237"
      }
    },
    {
      "cell_type": "code",
      "source": [
        "!python train.py --epochs 10 --data '/content/drive/MyDrive/colab/datasets/SET_2995-1/data.yaml' --weights yolov5m.pt --cache --evolve"
      ],
      "metadata": {
        "id": "GIQz51En1xxP"
      },
      "execution_count": null,
      "outputs": []
    },
    {
      "cell_type": "markdown",
      "source": [
        "# Train the data"
      ],
      "metadata": {
        "id": "63AJn7ny6Cvj"
      }
    },
    {
      "cell_type": "code",
      "source": [
        "!python train.py --img 416 --batch 64 --epochs 100 --data '/content/drive/MyDrive/colab/datasets/SET_2995-1/data.yaml' --weights yolov5m.pt --cache --hyp \"/content/drive/MyDrive/colab/yolov5/runs/evolve/exp2/hyp_evolve.yaml\""
      ],
      "metadata": {
        "id": "5a71ySkJ48qu"
      },
      "execution_count": null,
      "outputs": []
    }
  ]
}