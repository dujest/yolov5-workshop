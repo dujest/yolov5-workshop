{
  "nbformat": 4,
  "nbformat_minor": 0,
  "metadata": {
    "colab": {
      "name": "YOLOv5-Hyperparameter-Evolution.ipynb",
      "provenance": [],
      "collapsed_sections": [],
      "authorship_tag": "ABX9TyOjqXwguuOmREC0jM4a/AiD",
      "include_colab_link": true
    },
    "kernelspec": {
      "name": "python3",
      "display_name": "Python 3"
    },
    "language_info": {
      "name": "python"
    },
    "accelerator": "GPU",
    "gpuClass": "standard"
  },
  "cells": [
    {
      "cell_type": "markdown",
      "metadata": {
        "id": "view-in-github",
        "colab_type": "text"
      },
      "source": [
        "<a href=\"https://colab.research.google.com/github/dujest/yolov5-workshop/blob/main/YOLOv5_Hyperparameter_Evolution.ipynb\" target=\"_parent\"><img src=\"https://colab.research.google.com/assets/colab-badge.svg\" alt=\"Open In Colab\"/></a>"
      ]
    },
    {
      "cell_type": "code",
      "execution_count": 1,
      "metadata": {
        "colab": {
          "base_uri": "https://localhost:8080/"
        },
        "id": "XzxQASmvBMcF",
        "outputId": "2f2439fd-4bff-4f4b-aa45-13b2686d4fe1"
      },
      "outputs": [
        {
          "output_type": "stream",
          "name": "stdout",
          "text": [
            "Mounted at /content/drive\n"
          ]
        }
      ],
      "source": [
        "from google.colab import drive\n",
        "drive.mount('/content/drive')"
      ]
    },
    {
      "cell_type": "code",
      "source": [
        "%cd ./drive/MyDrive/"
      ],
      "metadata": {
        "id": "DeQTo8SLCTLj"
      },
      "execution_count": null,
      "outputs": []
    },
    {
      "cell_type": "code",
      "source": [
        "!mkdir ./colab"
      ],
      "metadata": {
        "id": "kh6e4FE1CUv0"
      },
      "execution_count": null,
      "outputs": []
    },
    {
      "cell_type": "code",
      "source": [
        "%cd /content/drive/MyDrive/colab"
      ],
      "metadata": {
        "colab": {
          "base_uri": "https://localhost:8080/"
        },
        "id": "jDTqd5ntBzrx",
        "outputId": "5d1a184d-eeef-49b6-988d-35d19e7c93f1"
      },
      "execution_count": 2,
      "outputs": [
        {
          "output_type": "stream",
          "name": "stdout",
          "text": [
            "/content/drive/MyDrive/colab\n"
          ]
        }
      ]
    },
    {
      "cell_type": "markdown",
      "source": [
        "# Install Requirements"
      ],
      "metadata": {
        "id": "LbQYtyFICc31"
      }
    },
    {
      "cell_type": "code",
      "source": [
        "# !git clone https://github.com/ultralytics/yolov5  # clone repo\n",
        "%cd yolov5\n",
        "%pip install -qr requirements.txt # install dependencies\n",
        "%pip install -q roboflow\n",
        "\n",
        "import torch\n",
        "import os\n",
        "from IPython.display import Image, clear_output  # to display images\n",
        "\n",
        "print(f\"Setup complete. Using torch {torch.__version__} ({torch.cuda.get_device_properties(0).name if torch.cuda.is_available() else 'CPU'})\")"
      ],
      "metadata": {
        "colab": {
          "base_uri": "https://localhost:8080/"
        },
        "id": "j0JpWuu2CNsx",
        "outputId": "ce46d529-496f-40d6-b2d8-f5ee85ef2d6f"
      },
      "execution_count": 3,
      "outputs": [
        {
          "output_type": "stream",
          "name": "stdout",
          "text": [
            "/content/drive/MyDrive/colab/yolov5\n",
            "\u001b[K     |████████████████████████████████| 1.6 MB 51.5 MB/s \n",
            "\u001b[K     |████████████████████████████████| 145 kB 40.4 MB/s \n",
            "\u001b[K     |████████████████████████████████| 178 kB 54.5 MB/s \n",
            "\u001b[K     |████████████████████████████████| 1.1 MB 60.3 MB/s \n",
            "\u001b[K     |████████████████████████████████| 67 kB 2.8 MB/s \n",
            "\u001b[K     |████████████████████████████████| 54 kB 3.0 MB/s \n",
            "\u001b[K     |████████████████████████████████| 138 kB 60.0 MB/s \n",
            "\u001b[K     |████████████████████████████████| 62 kB 1.4 MB/s \n",
            "\u001b[?25h  Building wheel for roboflow (setup.py) ... \u001b[?25l\u001b[?25hdone\n",
            "  Building wheel for wget (setup.py) ... \u001b[?25l\u001b[?25hdone\n",
            "Setup complete. Using torch 1.12.1+cu113 (Tesla T4)\n"
          ]
        }
      ]
    },
    {
      "cell_type": "markdown",
      "source": [
        "# Get a Dataset"
      ],
      "metadata": {
        "id": "I3CZOgf0vMHh"
      }
    },
    {
      "cell_type": "code",
      "source": [
        "!mkdir ../datasets"
      ],
      "metadata": {
        "id": "74vyWN2ow3J2"
      },
      "execution_count": null,
      "outputs": []
    },
    {
      "cell_type": "code",
      "source": [
        "# set up environment\n",
        "os.environ[\"DATASET_DIRECTORY\"] = \"/content/drive/MyDrive/colab/datasets\""
      ],
      "metadata": {
        "id": "j7DdSEfdwi6t"
      },
      "execution_count": 4,
      "outputs": []
    },
    {
      "cell_type": "code",
      "source": [
        "from roboflow import Roboflow\n",
        "rf = Roboflow(api_key=\"hqecDDiHcpNES0AxG9i3\")\n",
        "project = rf.workspace(\"caitlin-hall\").project(\"shipclassification\")\n",
        "dataset = project.version(3).download(\"yolov5\")"
      ],
      "metadata": {
        "colab": {
          "base_uri": "https://localhost:8080/"
        },
        "id": "zgivqUXHwLTT",
        "outputId": "f6e2808c-9b5c-420b-ab45-91930e102671"
      },
      "execution_count": null,
      "outputs": [
        {
          "output_type": "stream",
          "name": "stdout",
          "text": [
            "loading Roboflow workspace...\n",
            "loading Roboflow project...\n",
            "Downloading Dataset Version Zip in /content/drive/MyDrive/colab/datasets/ShipClassification-3 to yolov5pytorch: 100% [32666871 / 32666871] bytes\n"
          ]
        },
        {
          "output_type": "stream",
          "name": "stderr",
          "text": [
            "Extracting Dataset Version Zip to /content/drive/MyDrive/colab/datasets/ShipClassification-3 in yolov5pytorch:: 100%|██████████| 2714/2714 [00:20<00:00, 134.22it/s]\n"
          ]
        }
      ]
    },
    {
      "cell_type": "markdown",
      "source": [
        "# Hyperparameter Evolution"
      ],
      "metadata": {
        "id": "z_Erg9pP1wJ6"
      }
    },
    {
      "cell_type": "markdown",
      "source": [
        "Hyperparameters in ML control various aspects of training, and finding optimal values for them can be a challenge. Traditional methods like grid searches can quickly become intractable due to\n",
        "<br>\n",
        "1) the high dimensional search space,\n",
        "<br>\n",
        "2) unknown correlations among the dimensions,\n",
        "<br>\n",
        "3) expensive nature of evaluating the fitness at each point.\n",
        "<br>\n",
        "These reasons makes GA a suitable candidate for hyperparameter searches."
      ],
      "metadata": {
        "id": "aYd_Syh31237"
      }
    },
    {
      "cell_type": "code",
      "source": [
        "!python train.py --epochs 10 --data '/content/drive/MyDrive/colab/datasets/ShipClassification-3/data.yaml' --weights yolov5m.pt --cache --evolve"
      ],
      "metadata": {
        "id": "GIQz51En1xxP"
      },
      "execution_count": null,
      "outputs": []
    },
    {
      "cell_type": "markdown",
      "source": [
        "# Train the data"
      ],
      "metadata": {
        "id": "63AJn7ny6Cvj"
      }
    },
    {
      "cell_type": "code",
      "source": [
        "!python train.py --img 416 --batch 32 --epochs 150 --data '/content/drive/MyDrive/colab/datasets/ShipClassification-3/data.yaml' --weights yolov5m.pt --cache --hyp \"/content/drive/MyDrive/colab/yolov5/runs/evolve/exp/hyp_evolve.yaml\""
      ],
      "metadata": {
        "id": "5a71ySkJ48qu"
      },
      "execution_count": null,
      "outputs": []
    }
  ]
}