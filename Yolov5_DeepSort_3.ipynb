{
  "cells": [
    {
      "cell_type": "markdown",
      "metadata": {
        "id": "view-in-github",
        "colab_type": "text"
      },
      "source": [
        "<a href=\"https://colab.research.google.com/github/dujest/yolov5-workshop/blob/main/Yolov5_DeepSort_3.ipynb\" target=\"_parent\"><img src=\"https://colab.research.google.com/assets/colab-badge.svg\" alt=\"Open In Colab\"/></a>"
      ]
    },
    {
      "cell_type": "markdown",
      "source": [
        "# Mount your drive"
      ],
      "metadata": {
        "id": "RdoIe3FmVwZl"
      }
    },
    {
      "cell_type": "code",
      "source": [
        "from google.colab import drive\n",
        "drive.mount('/content/drive')"
      ],
      "metadata": {
        "colab": {
          "base_uri": "https://localhost:8080/"
        },
        "id": "s7gz3irgVxII",
        "outputId": "ab42d540-f5bb-4d1d-a5ab-14558e201f41"
      },
      "execution_count": null,
      "outputs": [
        {
          "output_type": "stream",
          "name": "stdout",
          "text": [
            "Mounted at /content/drive\n"
          ]
        }
      ]
    },
    {
      "cell_type": "code",
      "source": [
        "!mkdir /content/drive/MyDrive/colab"
      ],
      "metadata": {
        "id": "gQgQYCNLV8rc"
      },
      "execution_count": null,
      "outputs": []
    },
    {
      "cell_type": "code",
      "source": [
        "%cd /content/drive/MyDrive/colab"
      ],
      "metadata": {
        "colab": {
          "base_uri": "https://localhost:8080/"
        },
        "id": "QXE_OogoV9Nf",
        "outputId": "9b8bb965-f251-42f5-ae4d-26379953bfb0"
      },
      "execution_count": null,
      "outputs": [
        {
          "output_type": "stream",
          "name": "stdout",
          "text": [
            "/content/drive/MyDrive/colab\n"
          ]
        }
      ]
    },
    {
      "cell_type": "markdown",
      "metadata": {
        "id": "AIGuIpRFAo18"
      },
      "source": [
        "# Setup\n",
        "\n",
        "Clone repo, install dependencies and check PyTorch and GPU."
      ]
    },
    {
      "cell_type": "code",
      "execution_count": null,
      "metadata": {
        "colab": {
          "base_uri": "https://localhost:8080/"
        },
        "id": "taGCP-gCgqX8",
        "outputId": "ec828727-0a4b-45f0-a585-80cd30ce3b70"
      },
      "outputs": [
        {
          "output_type": "stream",
          "name": "stdout",
          "text": [
            "Setup complete. Using torch 1.12.1+cu113 (Tesla T4)\n"
          ]
        }
      ],
      "source": [
        "# !git clone --recurse-submodules https://github.com/mikel-brostrom/Yolov5_StrongSORT_OSNet.git  # clone repo\n",
        "%cd /content/drive/MyDrive/colab/Yolov5_StrongSORT_OSNet\n",
        "!pip install -qr requirements.txt  # install dependencies\n",
        "import torch\n",
        "from IPython.display import Image, clear_output  # to display images\n",
        "\n",
        "clear_output()\n",
        "\n",
        "print(f\"Setup complete. Using torch {torch.__version__} ({torch.cuda.get_device_properties(0).name if torch.cuda.is_available() else 'CPU'})\")"
      ]
    },
    {
      "cell_type": "code",
      "execution_count": null,
      "metadata": {
        "id": "NbJAsN0j4RNX",
        "colab": {
          "base_uri": "https://localhost:8080/"
        },
        "outputId": "cdd6d308-e135-4a95-d1b2-d7f62ae74217"
      },
      "outputs": [
        {
          "output_type": "stream",
          "name": "stdout",
          "text": [
            "/content/drive/MyDrive/colab\n"
          ]
        }
      ],
      "source": [
        "%cd ../yolov5\n",
        "!pip install -r requirements.txt\n",
        "clear_output()\n",
        "%cd ../"
      ]
    },
    {
      "cell_type": "markdown",
      "metadata": {
        "id": "b9XXkr-HTN2b"
      },
      "source": [
        "# Download youtube video and cut\n",
        "\n"
      ]
    },
    {
      "cell_type": "code",
      "execution_count": null,
      "metadata": {
        "colab": {
          "base_uri": "https://localhost:8080/"
        },
        "id": "crNkKGT1A7GB",
        "outputId": "f1a057c6-9899-4626-eba6-c501bb282e03"
      },
      "outputs": [
        {
          "output_type": "stream",
          "name": "stdout",
          "text": [
            "Looking in indexes: https://pypi.org/simple, https://us-python.pkg.dev/colab-wheels/public/simple/\n",
            "Collecting pytube\n",
            "  Downloading pytube-12.1.0-py3-none-any.whl (56 kB)\n",
            "\u001b[K     |████████████████████████████████| 56 kB 4.9 MB/s \n",
            "\u001b[?25hInstalling collected packages: pytube\n",
            "Successfully installed pytube-12.1.0\n"
          ]
        }
      ],
      "source": [
        "!pip install pytube"
      ]
    },
    {
      "cell_type": "code",
      "source": [
        "!mkdir ./videos"
      ],
      "metadata": {
        "id": "hqYVeFdHXw1u"
      },
      "execution_count": null,
      "outputs": []
    },
    {
      "cell_type": "code",
      "execution_count": null,
      "metadata": {
        "id": "VmvBg6BBBJoN"
      },
      "outputs": [],
      "source": [
        "from pytube import YouTube\n",
        "import os\n",
        "\n",
        "def downloadYouTube(videourl, path):\n",
        "\n",
        "    yt = YouTube(videourl)\n",
        "    yt = yt.streams.filter(progressive=True, file_extension='mp4').order_by('resolution').desc().first()\n",
        "    if not os.path.exists(path):\n",
        "        os.makedirs(path)\n",
        "    yt.download(path)"
      ]
    },
    {
      "cell_type": "markdown",
      "source": [
        "## Video 1"
      ],
      "metadata": {
        "id": "wXpwXOFknnhI"
      }
    },
    {
      "cell_type": "code",
      "source": [
        "downloadYouTube('https://www.youtube.com/watch?v=X6Thg-fjFsY', '/content/drive/MyDrive/colab/videos')"
      ],
      "metadata": {
        "id": "0OTQya9AnlVR"
      },
      "execution_count": null,
      "outputs": []
    },
    {
      "cell_type": "code",
      "execution_count": null,
      "metadata": {
        "id": "0aLHhyVRBvhn"
      },
      "outputs": [],
      "source": [
        "# extract seconds worth of video frames of it\n",
        "!yes | ffmpeg -ss 00:00:23 -i \"/content/drive/MyDrive/colab/videos/Port of Tauranga  Time Lapse.mp4\" -t 33 -c copy /content/drive/MyDrive/colab/videos/port.avi\n",
        "clear_output()"
      ]
    },
    {
      "cell_type": "code",
      "execution_count": null,
      "metadata": {
        "id": "YO5l9K3K10GL"
      },
      "outputs": [],
      "source": [
        "!ffmpeg -i \"/content/drive/MyDrive/colab/videos/port.avi\" /content/drive/MyDrive/colab/videos/port.mp4\n",
        "clear_output()"
      ]
    },
    {
      "cell_type": "markdown",
      "source": [
        "## Video 2"
      ],
      "metadata": {
        "id": "rzDgknc_npxl"
      }
    },
    {
      "cell_type": "code",
      "source": [
        "downloadYouTube('https://www.youtube.com/watch?v=6Qa1O39X_Es', '/content/drive/MyDrive/colab/videos')"
      ],
      "metadata": {
        "id": "CkHTNFscnx16"
      },
      "execution_count": null,
      "outputs": []
    },
    {
      "cell_type": "code",
      "source": [
        "# extract seconds worth of video frames of it\n",
        "!yes | ffmpeg -ss 00:0:10 -i \"/content/drive/MyDrive/colab/videos/Port of Singapore.mp4\" -t 50 -c copy /content/drive/MyDrive/colab/videos/portofsingapore.avi\n",
        "clear_output()"
      ],
      "metadata": {
        "id": "5z0ui6Ztnyeh"
      },
      "execution_count": null,
      "outputs": []
    },
    {
      "cell_type": "code",
      "source": [
        "!ffmpeg -i \"/content/drive/MyDrive/colab/videos/portofsingapore.avi\" /content/drive/MyDrive/colab/videos/portofsingapore.mp4\n",
        "clear_output()"
      ],
      "metadata": {
        "id": "tsHm42pqn2nU"
      },
      "execution_count": null,
      "outputs": []
    },
    {
      "cell_type": "markdown",
      "metadata": {
        "id": "oqIP5shr9HQd"
      },
      "source": [
        "# Run inference on videos\n",
        "\n",
        "The ``cv2.imshow()`` and ``cv.imshow()`` functions from the [opencv-python](https://github.com/skvark/opencv-python) package are incompatible with Jupyter notebook; see https://github.com/jupyter/notebook/issues/3935. \n",
        "\n",
        "Hence we chose to save it to file in this notebook. Locally you can use the ``--show-vid`` flag in order to visualize the tracking in real-time."
      ]
    },
    {
      "cell_type": "markdown",
      "source": [
        "Download YOLOv5 pretrained weights"
      ],
      "metadata": {
        "id": "TqWUJljd8k2c"
      }
    },
    {
      "cell_type": "code",
      "source": [
        "%cd /content/drive/MyDrive/colab/Yolov5_StrongSORT_OSNet"
      ],
      "metadata": {
        "colab": {
          "base_uri": "https://localhost:8080/"
        },
        "id": "6ztH_8ajefc2",
        "outputId": "ba479bf2-bde7-470d-d792-f4260d901e6b"
      },
      "execution_count": null,
      "outputs": [
        {
          "output_type": "stream",
          "name": "stdout",
          "text": [
            "/content/drive/MyDrive/colab/Yolov5_StrongSORT_OSNet\n"
          ]
        }
      ]
    },
    {
      "cell_type": "code",
      "source": [
        "!mkdir /content/drive/MyDrive/colab/weights"
      ],
      "metadata": {
        "id": "h4PRU4z48qQo"
      },
      "execution_count": null,
      "outputs": []
    },
    {
      "cell_type": "code",
      "source": [
        "!wget \"https://github.com/ultralytics/yolov5/releases/download/v6.1/yolov5l.pt\" -O /content/drive/MyDrive/colab/weights/yolov5l.pt"
      ],
      "metadata": {
        "id": "hr49QjmB8q2g"
      },
      "execution_count": null,
      "outputs": []
    },
    {
      "cell_type": "code",
      "execution_count": null,
      "metadata": {
        "id": "4yEraJfKhBku"
      },
      "outputs": [],
      "source": [
        "!python track.py --yolo-weights \"/content/drive/MyDrive/colab/weights/yolov5l.pt\" \\\n",
        "                 --strong-sort-weights osnet_x0_25_msmt17.pt \\\n",
        "                 --source \"/content/drive/MyDrive/colab/videos/port.mp4\" \\\n",
        "                 --save-vid"
      ]
    },
    {
      "cell_type": "code",
      "source": [
        "!python track.py --yolo-weights \"/content/drive/MyDrive/colab/weights/yolov5l.pt\" \\\n",
        "                 --strong-sort-weights osnet_x0_25_msmt17.pt \\\n",
        "                 --source \"/content/drive/MyDrive/colab/videos/portofsingapore.mp4\" \\\n",
        "                 --save-vid"
      ],
      "metadata": {
        "id": "GAqr_pK9-7cT"
      },
      "execution_count": null,
      "outputs": []
    },
    {
      "cell_type": "markdown",
      "source": [
        "# Show results"
      ],
      "metadata": {
        "id": "58w-EOpiiigH"
      }
    },
    {
      "cell_type": "code",
      "source": [],
      "metadata": {
        "id": "2Li92dNGAnGp"
      },
      "execution_count": null,
      "outputs": []
    }
  ],
  "metadata": {
    "accelerator": "GPU",
    "colab": {
      "collapsed_sections": [],
      "provenance": [],
      "include_colab_link": true
    },
    "gpuClass": "standard",
    "kernelspec": {
      "display_name": "Python 3",
      "name": "python3"
    },
    "language_info": {
      "name": "python"
    }
  },
  "nbformat": 4,
  "nbformat_minor": 0
}